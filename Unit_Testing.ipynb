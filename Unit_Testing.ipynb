{
  "nbformat": 4,
  "nbformat_minor": 0,
  "metadata": {
    "colab": {
      "name": "Unit Testing.ipynb",
      "provenance": [],
      "authorship_tag": "ABX9TyPyDlftSgfeHBXILOxfzCck",
      "include_colab_link": true
    },
    "kernelspec": {
      "name": "python3",
      "display_name": "Python 3"
    },
    "language_info": {
      "name": "python"
    }
  },
  "cells": [
    {
      "cell_type": "markdown",
      "metadata": {
        "id": "view-in-github",
        "colab_type": "text"
      },
      "source": [
        "<a href=\"https://colab.research.google.com/github/abdulrahman201/Unittest-framework-calculator/blob/main/Unit_Testing.ipynb\" target=\"_parent\"><img src=\"https://colab.research.google.com/assets/colab-badge.svg\" alt=\"Open In Colab\"/></a>"
      ]
    },
    {
      "cell_type": "code",
      "metadata": {
        "id": "EI0OpYExPFln"
      },
      "source": [
        "import numpy as np\n",
        "import unittest"
      ],
      "execution_count": 1,
      "outputs": []
    },
    {
      "cell_type": "code",
      "metadata": {
        "id": "i5mOZKkpPMoq"
      },
      "source": [
        "class Calculator:\n",
        "    def __init__(self):\n",
        "        pass\n",
        "\n",
        "    def add(self, X, Y):\n",
        "\n",
        "      return np.add(X, Y)\n",
        "\n",
        "    def sub(self, X, Y):\n",
        "\n",
        "      return np.subtract(X, Y)\n",
        "  \n",
        "    def mul(self, X, Y):\n",
        "\n",
        "      return np.multiply(X, Y)\n",
        "\n",
        "    def div(self, X, Y):\n",
        "\n",
        "      if Y == 0:\n",
        "          raise ZeroDivisionError(\"The divisor must not be zero\")\n",
        "      return np.divide(X, Y)\n",
        "\n",
        "    def pow(self, X, Y):\n",
        "      \n",
        "      return np.power(X, Y)  \n"
      ],
      "execution_count": 2,
      "outputs": []
    },
    {
      "cell_type": "code",
      "metadata": {
        "id": "uS8cipvxQVjW"
      },
      "source": [
        "class TestCalculator(unittest.TestCase):\n",
        "  \n",
        "    def test_add(self):\n",
        "        '''Test case function for addition'''\n",
        "        self.calc = Calculator()\n",
        "        result = self.calc.add(10, 10)\n",
        "        self.assertEqual(result, 20)\n",
        "\n",
        "    def test_sub(self):\n",
        "        '''Test case function for subtraction'''\n",
        "        self.calc = Calculator()\n",
        "        result = self.calc.sub(10, 5)\n",
        "        self.assertEqual(result, 5)\n",
        "\n",
        "    def test_mul(self):\n",
        "        '''Test case function for multiplication'''\n",
        "        self.calc = Calculator()\n",
        "        result = self.calc.mul(4, 8)\n",
        "        self.assertEqual(result, 32)\n",
        "\n",
        "    def test_div(self):\n",
        "        '''Test case function for division'''\n",
        "        self.calc = Calculator()\n",
        "        result = self.calc.div(10, 2)\n",
        "        self.assertEqual(result, 5.0)\n",
        "\n",
        "    def test_pow(self):\n",
        "        '''Test case function for power'''\n",
        "        self.calc = Calculator()\n",
        "        result = self.calc.pow(3, 2)\n",
        "        result2 = self.calc.pow(2, 3)\n",
        "        self.assertEqual(result, 9)\n",
        "        self.assertEqual(result2, 8)    "
      ],
      "execution_count": 7,
      "outputs": []
    },
    {
      "cell_type": "code",
      "metadata": {
        "colab": {
          "base_uri": "https://localhost:8080/"
        },
        "id": "HXm8rFT4Q_-p",
        "outputId": "3191ce7e-7bc4-402c-de72-a617fab283ff"
      },
      "source": [
        "unittest.main(argv=[''], verbosity=2, exit=False)"
      ],
      "execution_count": 8,
      "outputs": [
        {
          "output_type": "stream",
          "name": "stderr",
          "text": [
            "test_add (__main__.TestCalculator)\n",
            "Test case function for addition ... ok\n",
            "test_div (__main__.TestCalculator)\n",
            "Test case function for division ... ok\n",
            "test_mul (__main__.TestCalculator)\n",
            "Test case function for multiplication ... ok\n",
            "test_pow (__main__.TestCalculator)\n",
            "Test case function for power ... ok\n",
            "test_sub (__main__.TestCalculator)\n",
            "Test case function for subtraction ... ok\n",
            "\n",
            "----------------------------------------------------------------------\n",
            "Ran 5 tests in 0.011s\n",
            "\n",
            "OK\n"
          ]
        },
        {
          "output_type": "execute_result",
          "data": {
            "text/plain": [
              "<unittest.main.TestProgram at 0x7fa5ec695b50>"
            ]
          },
          "metadata": {},
          "execution_count": 8
        }
      ]
    },
    {
      "cell_type": "code",
      "metadata": {
        "id": "zp3-lANARFPq"
      },
      "source": [
        ""
      ],
      "execution_count": 4,
      "outputs": []
    }
  ]
}